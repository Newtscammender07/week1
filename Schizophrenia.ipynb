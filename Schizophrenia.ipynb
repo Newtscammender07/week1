{
  "nbformat": 4,
  "nbformat_minor": 0,
  "metadata": {
    "colab": {
      "provenance": [],
      "gpuType": "T4"
    },
    "kernelspec": {
      "name": "python3",
      "display_name": "Python 3"
    },
    "language_info": {
      "name": "python"
    },
    "accelerator": "GPU"
  },
  "cells": [
    {
      "cell_type": "code",
      "source": [
        "\n",
        "!pip install mne scikit-learn matplotlib numpy scipy --quiet\n"
      ],
      "metadata": {
        "colab": {
          "base_uri": "https://localhost:8080/"
        },
        "id": "Zk0qUpdFUeUE",
        "outputId": "ce902009-1c6e-44b4-8be0-e1e8939a77c2"
      },
      "execution_count": null,
      "outputs": [
        {
          "output_type": "stream",
          "name": "stdout",
          "text": [
            "\u001b[?25l   \u001b[90m━━━━━━━━━━━━━━━━━━━━━━━━━━━━━━━━━━━━━━━━\u001b[0m \u001b[32m0.0/7.4 MB\u001b[0m \u001b[31m?\u001b[0m eta \u001b[36m-:--:--\u001b[0m\r\u001b[2K   \u001b[91m━━━\u001b[0m\u001b[90m╺\u001b[0m\u001b[90m━━━━━━━━━━━━━━━━━━━━━━━━━━━━━━━━━━━━\u001b[0m \u001b[32m0.6/7.4 MB\u001b[0m \u001b[31m19.3 MB/s\u001b[0m eta \u001b[36m0:00:01\u001b[0m\r\u001b[2K   \u001b[91m━━━━━━━━━━━━━━━━━━━━━━━━━━━━\u001b[0m\u001b[90m╺\u001b[0m\u001b[90m━━━━━━━━━━━\u001b[0m \u001b[32m5.2/7.4 MB\u001b[0m \u001b[31m78.0 MB/s\u001b[0m eta \u001b[36m0:00:01\u001b[0m\r\u001b[2K   \u001b[91m━━━━━━━━━━━━━━━━━━━━━━━━━━━━━━━━━━━━━━━\u001b[0m\u001b[91m╸\u001b[0m \u001b[32m7.4/7.4 MB\u001b[0m \u001b[31m78.8 MB/s\u001b[0m eta \u001b[36m0:00:01\u001b[0m\r\u001b[2K   \u001b[90m━━━━━━━━━━━━━━━━━━━━━━━━━━━━━━━━━━━━━━━━\u001b[0m \u001b[32m7.4/7.4 MB\u001b[0m \u001b[31m56.3 MB/s\u001b[0m eta \u001b[36m0:00:00\u001b[0m\n",
            "\u001b[?25h"
          ]
        }
      ]
    },
    {
      "cell_type": "code",
      "execution_count": null,
      "metadata": {
        "colab": {
          "base_uri": "https://localhost:8080/",
          "height": 73
        },
        "id": "7rcWjS9EPVqz",
        "outputId": "f7f2bdde-8eea-4c48-a19c-4c205c4fa1f6"
      },
      "outputs": [
        {
          "output_type": "display_data",
          "data": {
            "text/plain": [
              "<IPython.core.display.HTML object>"
            ],
            "text/html": [
              "\n",
              "     <input type=\"file\" id=\"files-97db2ffb-512e-4c63-a177-5d6399fbd4aa\" name=\"files[]\" multiple disabled\n",
              "        style=\"border:none\" />\n",
              "     <output id=\"result-97db2ffb-512e-4c63-a177-5d6399fbd4aa\">\n",
              "      Upload widget is only available when the cell has been executed in the\n",
              "      current browser session. Please rerun this cell to enable.\n",
              "      </output>\n",
              "      <script>// Copyright 2017 Google LLC\n",
              "//\n",
              "// Licensed under the Apache License, Version 2.0 (the \"License\");\n",
              "// you may not use this file except in compliance with the License.\n",
              "// You may obtain a copy of the License at\n",
              "//\n",
              "//      http://www.apache.org/licenses/LICENSE-2.0\n",
              "//\n",
              "// Unless required by applicable law or agreed to in writing, software\n",
              "// distributed under the License is distributed on an \"AS IS\" BASIS,\n",
              "// WITHOUT WARRANTIES OR CONDITIONS OF ANY KIND, either express or implied.\n",
              "// See the License for the specific language governing permissions and\n",
              "// limitations under the License.\n",
              "\n",
              "/**\n",
              " * @fileoverview Helpers for google.colab Python module.\n",
              " */\n",
              "(function(scope) {\n",
              "function span(text, styleAttributes = {}) {\n",
              "  const element = document.createElement('span');\n",
              "  element.textContent = text;\n",
              "  for (const key of Object.keys(styleAttributes)) {\n",
              "    element.style[key] = styleAttributes[key];\n",
              "  }\n",
              "  return element;\n",
              "}\n",
              "\n",
              "// Max number of bytes which will be uploaded at a time.\n",
              "const MAX_PAYLOAD_SIZE = 100 * 1024;\n",
              "\n",
              "function _uploadFiles(inputId, outputId) {\n",
              "  const steps = uploadFilesStep(inputId, outputId);\n",
              "  const outputElement = document.getElementById(outputId);\n",
              "  // Cache steps on the outputElement to make it available for the next call\n",
              "  // to uploadFilesContinue from Python.\n",
              "  outputElement.steps = steps;\n",
              "\n",
              "  return _uploadFilesContinue(outputId);\n",
              "}\n",
              "\n",
              "// This is roughly an async generator (not supported in the browser yet),\n",
              "// where there are multiple asynchronous steps and the Python side is going\n",
              "// to poll for completion of each step.\n",
              "// This uses a Promise to block the python side on completion of each step,\n",
              "// then passes the result of the previous step as the input to the next step.\n",
              "function _uploadFilesContinue(outputId) {\n",
              "  const outputElement = document.getElementById(outputId);\n",
              "  const steps = outputElement.steps;\n",
              "\n",
              "  const next = steps.next(outputElement.lastPromiseValue);\n",
              "  return Promise.resolve(next.value.promise).then((value) => {\n",
              "    // Cache the last promise value to make it available to the next\n",
              "    // step of the generator.\n",
              "    outputElement.lastPromiseValue = value;\n",
              "    return next.value.response;\n",
              "  });\n",
              "}\n",
              "\n",
              "/**\n",
              " * Generator function which is called between each async step of the upload\n",
              " * process.\n",
              " * @param {string} inputId Element ID of the input file picker element.\n",
              " * @param {string} outputId Element ID of the output display.\n",
              " * @return {!Iterable<!Object>} Iterable of next steps.\n",
              " */\n",
              "function* uploadFilesStep(inputId, outputId) {\n",
              "  const inputElement = document.getElementById(inputId);\n",
              "  inputElement.disabled = false;\n",
              "\n",
              "  const outputElement = document.getElementById(outputId);\n",
              "  outputElement.innerHTML = '';\n",
              "\n",
              "  const pickedPromise = new Promise((resolve) => {\n",
              "    inputElement.addEventListener('change', (e) => {\n",
              "      resolve(e.target.files);\n",
              "    });\n",
              "  });\n",
              "\n",
              "  const cancel = document.createElement('button');\n",
              "  inputElement.parentElement.appendChild(cancel);\n",
              "  cancel.textContent = 'Cancel upload';\n",
              "  const cancelPromise = new Promise((resolve) => {\n",
              "    cancel.onclick = () => {\n",
              "      resolve(null);\n",
              "    };\n",
              "  });\n",
              "\n",
              "  // Wait for the user to pick the files.\n",
              "  const files = yield {\n",
              "    promise: Promise.race([pickedPromise, cancelPromise]),\n",
              "    response: {\n",
              "      action: 'starting',\n",
              "    }\n",
              "  };\n",
              "\n",
              "  cancel.remove();\n",
              "\n",
              "  // Disable the input element since further picks are not allowed.\n",
              "  inputElement.disabled = true;\n",
              "\n",
              "  if (!files) {\n",
              "    return {\n",
              "      response: {\n",
              "        action: 'complete',\n",
              "      }\n",
              "    };\n",
              "  }\n",
              "\n",
              "  for (const file of files) {\n",
              "    const li = document.createElement('li');\n",
              "    li.append(span(file.name, {fontWeight: 'bold'}));\n",
              "    li.append(span(\n",
              "        `(${file.type || 'n/a'}) - ${file.size} bytes, ` +\n",
              "        `last modified: ${\n",
              "            file.lastModifiedDate ? file.lastModifiedDate.toLocaleDateString() :\n",
              "                                    'n/a'} - `));\n",
              "    const percent = span('0% done');\n",
              "    li.appendChild(percent);\n",
              "\n",
              "    outputElement.appendChild(li);\n",
              "\n",
              "    const fileDataPromise = new Promise((resolve) => {\n",
              "      const reader = new FileReader();\n",
              "      reader.onload = (e) => {\n",
              "        resolve(e.target.result);\n",
              "      };\n",
              "      reader.readAsArrayBuffer(file);\n",
              "    });\n",
              "    // Wait for the data to be ready.\n",
              "    let fileData = yield {\n",
              "      promise: fileDataPromise,\n",
              "      response: {\n",
              "        action: 'continue',\n",
              "      }\n",
              "    };\n",
              "\n",
              "    // Use a chunked sending to avoid message size limits. See b/62115660.\n",
              "    let position = 0;\n",
              "    do {\n",
              "      const length = Math.min(fileData.byteLength - position, MAX_PAYLOAD_SIZE);\n",
              "      const chunk = new Uint8Array(fileData, position, length);\n",
              "      position += length;\n",
              "\n",
              "      const base64 = btoa(String.fromCharCode.apply(null, chunk));\n",
              "      yield {\n",
              "        response: {\n",
              "          action: 'append',\n",
              "          file: file.name,\n",
              "          data: base64,\n",
              "        },\n",
              "      };\n",
              "\n",
              "      let percentDone = fileData.byteLength === 0 ?\n",
              "          100 :\n",
              "          Math.round((position / fileData.byteLength) * 100);\n",
              "      percent.textContent = `${percentDone}% done`;\n",
              "\n",
              "    } while (position < fileData.byteLength);\n",
              "  }\n",
              "\n",
              "  // All done.\n",
              "  yield {\n",
              "    response: {\n",
              "      action: 'complete',\n",
              "    }\n",
              "  };\n",
              "}\n",
              "\n",
              "scope.google = scope.google || {};\n",
              "scope.google.colab = scope.google.colab || {};\n",
              "scope.google.colab._files = {\n",
              "  _uploadFiles,\n",
              "  _uploadFilesContinue,\n",
              "};\n",
              "})(self);\n",
              "</script> "
            ]
          },
          "metadata": {}
        },
        {
          "output_type": "stream",
          "name": "stdout",
          "text": [
            "Saving dataset_text.zip to dataset_text.zip\n"
          ]
        }
      ],
      "source": [
        "from google.colab import files\n",
        "uploaded = files.upload()"
      ]
    },
    {
      "cell_type": "code",
      "source": [
        "# STEP 3: Unzip the dataset\n",
        "import zipfile, os\n",
        "\n",
        "zip_path = \"dataset_text.zip\"  # adjust if different\n",
        "extract_dir = \"eeg_dataset\"\n",
        "\n",
        "with zipfile.ZipFile(zip_path, 'r') as zip_ref:\n",
        "    zip_ref.extractall(extract_dir)\n",
        "\n",
        "os.listdir(extract_dir)\n"
      ],
      "metadata": {
        "colab": {
          "base_uri": "https://localhost:8080/"
        },
        "id": "z8wVypnIUcId",
        "outputId": "8a7ee265-3a3f-47ab-b6ec-554dfdaea50a"
      },
      "execution_count": null,
      "outputs": [
        {
          "output_type": "execute_result",
          "data": {
            "text/plain": [
              "['schizophren', 'normal', 'description.txt']"
            ]
          },
          "metadata": {},
          "execution_count": 4
        }
      ]
    },
    {
      "cell_type": "code",
      "source": [
        "# STEP 4: Load EEG signals from .txt and assign labels\n",
        "import numpy as np\n",
        "\n",
        "def load_eeg_from_folder(folder_path, label):\n",
        "    eeg_data = []\n",
        "    labels = []\n",
        "    for filename in os.listdir(folder_path):\n",
        "        if filename.endswith(\".txt\"):\n",
        "            data = np.loadtxt(os.path.join(folder_path, filename))\n",
        "            if data.ndim == 1:\n",
        "                data = data[np.newaxis, :]\n",
        "            eeg_data.append(data)\n",
        "            labels.append(label)\n",
        "    return eeg_data, labels\n",
        "\n",
        "normal_path = os.path.join(extract_dir, \"normal\")\n",
        "schizo_path = os.path.join(extract_dir, \"schizophren\")\n",
        "\n",
        "normal_data, normal_labels = load_eeg_from_folder(normal_path, 0)\n",
        "schizo_data, schizo_labels = load_eeg_from_folder(schizo_path, 1)\n",
        "\n",
        "X_raw = normal_data + schizo_data\n",
        "y = np.array(normal_labels + schizo_labels)\n",
        "\n",
        "X = np.array([x.flatten() for x in X_raw])  # Flatten each EEG matrix\n",
        "X.shape, y.shape\n"
      ],
      "metadata": {
        "colab": {
          "base_uri": "https://localhost:8080/"
        },
        "id": "8D-Xr8LQUkcM",
        "outputId": "7150b5d1-227c-4f41-b43a-e82ab3381f6b"
      },
      "execution_count": null,
      "outputs": [
        {
          "output_type": "execute_result",
          "data": {
            "text/plain": [
              "((84, 122880), (84,))"
            ]
          },
          "metadata": {},
          "execution_count": 5
        }
      ]
    },
    {
      "cell_type": "code",
      "source": [
        "# STEP 5: Split, scale, and reduce dimensionality\n",
        "from sklearn.model_selection import train_test_split\n",
        "from sklearn.preprocessing import StandardScaler\n",
        "from sklearn.decomposition import PCA\n",
        "\n",
        "X_train, X_test, y_train, y_test = train_test_split(X, y, test_size=0.2, random_state=42, stratify=y)\n",
        "\n",
        "scaler = StandardScaler()\n",
        "X_train_scaled = scaler.fit_transform(X_train)\n",
        "X_test_scaled = scaler.transform(X_test)\n",
        "\n",
        "# PCA (keep 99% variance)\n",
        "pca = PCA(n_components=0.99, svd_solver='full')\n",
        "X_train_pca = pca.fit_transform(X_train_scaled)\n",
        "X_test_pca = pca.transform(X_test_scaled)\n",
        "\n",
        "print(f\"PCA components: {X_train_pca.shape[1]}\")\n"
      ],
      "metadata": {
        "colab": {
          "base_uri": "https://localhost:8080/"
        },
        "id": "1IF7YP-UUoO1",
        "outputId": "8efbb2f4-6ed3-45d8-8cde-7b4a2d3c1da0"
      },
      "execution_count": null,
      "outputs": [
        {
          "output_type": "stream",
          "name": "stdout",
          "text": [
            "PCA components: 65\n"
          ]
        }
      ]
    },
    {
      "cell_type": "code",
      "source": [
        "# SECTION 5: Train and evaluate SVM classifier\n",
        "from sklearn.svm import SVC\n",
        "from sklearn.metrics import classification_report, confusion_matrix\n",
        "import seaborn as sns\n",
        "import matplotlib.pyplot as plt\n",
        "\n",
        "model = SVC(kernel='rbf', C=1.0, gamma='scale')\n",
        "model.fit(X_train_pca, y_train)\n",
        "y_pred = model.predict(X_test_pca)\n",
        "\n",
        "print(classification_report(y_test, y_pred, target_names=[\"Normal\", \"Schizophrenia\"]))\n",
        "\n",
        "# Confusion Matrix\n",
        "cm = confusion_matrix(y_test, y_pred)\n",
        "plt.figure(figsize=(6,5))\n",
        "sns.heatmap(cm, annot=True, fmt=\"d\", cmap=\"Blues\", xticklabels=[\"Normal\", \"Schizo\"], yticklabels=[\"Normal\", \"Schizo\"])\n",
        "plt.xlabel(\"Predicted\")\n",
        "plt.ylabel(\"Actual\")\n",
        "plt.title(\"Confusion Matrix\")\n",
        "plt.show()\n"
      ],
      "metadata": {
        "colab": {
          "base_uri": "https://localhost:8080/",
          "height": 767
        },
        "id": "3X9XYTpDVfGY",
        "outputId": "fe30dce1-bd80-4d7b-c76c-f750cf654020"
      },
      "execution_count": null,
      "outputs": [
        {
          "output_type": "stream",
          "name": "stderr",
          "text": [
            "/usr/local/lib/python3.11/dist-packages/sklearn/metrics/_classification.py:1565: UndefinedMetricWarning: Precision is ill-defined and being set to 0.0 in labels with no predicted samples. Use `zero_division` parameter to control this behavior.\n",
            "  _warn_prf(average, modifier, f\"{metric.capitalize()} is\", len(result))\n",
            "/usr/local/lib/python3.11/dist-packages/sklearn/metrics/_classification.py:1565: UndefinedMetricWarning: Precision is ill-defined and being set to 0.0 in labels with no predicted samples. Use `zero_division` parameter to control this behavior.\n",
            "  _warn_prf(average, modifier, f\"{metric.capitalize()} is\", len(result))\n",
            "/usr/local/lib/python3.11/dist-packages/sklearn/metrics/_classification.py:1565: UndefinedMetricWarning: Precision is ill-defined and being set to 0.0 in labels with no predicted samples. Use `zero_division` parameter to control this behavior.\n",
            "  _warn_prf(average, modifier, f\"{metric.capitalize()} is\", len(result))\n"
          ]
        },
        {
          "output_type": "stream",
          "name": "stdout",
          "text": [
            "               precision    recall  f1-score   support\n",
            "\n",
            "       Normal       0.00      0.00      0.00         8\n",
            "Schizophrenia       0.53      1.00      0.69         9\n",
            "\n",
            "     accuracy                           0.53        17\n",
            "    macro avg       0.26      0.50      0.35        17\n",
            " weighted avg       0.28      0.53      0.37        17\n",
            "\n"
          ]
        },
        {
          "output_type": "display_data",
          "data": {
            "text/plain": [
              "<Figure size 600x500 with 2 Axes>"
            ],
            "image/png": "[encoded data removed]"
          },
          "metadata": {}
        }
      ]
    },
    {
      "cell_type": "code",
      "source": [
        "X_train, X_test, y_train, y_test = train_test_split(\n",
        "    X, y, test_size=0.2, stratify=y, random_state=42\n",
        ")\n",
        "scaler = StandardScaler().fit(X_train)\n",
        "X_train_s = scaler.transform(X_train)\n",
        "X_test_s  = scaler.transform(X_test)\n",
        "\n",
        "pca = PCA(n_components=0.99, svd_solver='full').fit(X_train_s)\n",
        "X_train_pca = pca.transform(X_train_s)\n",
        "X_test_pca  = pca.transform(X_test_s)\n",
        "print(\"PCA components:\", X_train_pca.shape[1])\n",
        "\n",
        "# 4. Train SVM and RF\n",
        "from sklearn.svm import SVC\n",
        "from sklearn.ensemble import RandomForestClassifier\n",
        "\n",
        "svm = SVC(kernel='rbf', C=1.0, gamma='scale', probability=True).fit(\n",
        "    X_train_pca, y_train\n",
        ")\n",
        "rf  = RandomForestClassifier(n_estimators=100, random_state=42).fit(\n",
        "    X_train_pca, y_train\n",
        ")\n",
        "\n",
        "# 5. Reports\n",
        "from sklearn.metrics import classification_report, confusion_matrix, roc_curve, auc\n",
        "\n",
        "for name, mdl in [(\"SVM\", svm), (\"RF\", rf)]:\n",
        "    y_pred = mdl.predict(X_test_pca)\n",
        "    print(f\"\\n{name} Classification Report:\")\n",
        "    print(classification_report(y_test, y_pred, target_names=[\"Normal\",\"Schizo\"]))\n",
        "    print(f\"{name} Confusion Matrix:\\n\", confusion_matrix(y_test, y_pred))\n",
        "\n",
        "# 6. PCA explained variance plot\n",
        "import matplotlib.pyplot as plt\n",
        "expl = pca.explained_variance_ratio_.cumsum()\n",
        "plt.figure()\n",
        "plt.plot(expl)\n",
        "plt.xlabel(\"PCA components\")\n",
        "plt.ylabel(\"Cumulative explained variance\")\n",
        "plt.title(\"PCA Explained Variance\")\n",
        "plt.show()\n",
        "\n",
        "# 7. ROC curves & AUC\n",
        "y_score_svm = svm.decision_function(X_test_pca)\n",
        "y_score_rf  = rf.predict_proba(X_test_pca)[:,1]\n",
        "\n",
        "fpr_svm, tpr_svm, _ = roc_curve(y_test, y_score_svm)\n",
        "fpr_rf,  tpr_rf,  _ = roc_curve(y_test, y_score_rf)\n",
        "auc_svm = auc(fpr_svm, tpr_svm)\n",
        "auc_rf  = auc(fpr_rf,  tpr_rf)\n",
        "\n",
        "plt.figure()\n",
        "plt.plot(fpr_svm, tpr_svm, label=f\"SVM (AUC={auc_svm:.2f})\")\n",
        "plt.plot(fpr_rf,  tpr_rf,  label=f\"RF  (AUC={auc_rf:.2f})\")\n",
        "plt.plot([0,1],[0,1],'--')\n",
        "plt.xlabel(\"False Positive Rate\")\n",
        "plt.ylabel(\"True Positive Rate\")\n",
        "plt.title(\"ROC: SVM vs RF\")\n",
        "plt.legend(loc=\"lower right\")\n",
        "plt.show()"
      ],
      "metadata": {
        "colab": {
          "base_uri": "https://localhost:8080/",
          "height": 1000
        },
        "id": "gO3i99SXUwha",
        "outputId": "792d3a2e-f8b5-4dfa-f7ec-6d727c345f64"
      },
      "execution_count": null,
      "outputs": [
        {
          "output_type": "stream",
          "name": "stdout",
          "text": [
            "PCA components: 65\n",
            "\n",
            "SVM Classification Report:\n",
            "              precision    recall  f1-score   support\n",
            "\n",
            "      Normal       0.00      0.00      0.00         8\n",
            "      Schizo       0.53      1.00      0.69         9\n",
            "\n",
            "    accuracy                           0.53        17\n",
            "   macro avg       0.26      0.50      0.35        17\n",
            "weighted avg       0.28      0.53      0.37        17\n",
            "\n",
            "SVM Confusion Matrix:\n",
            " [[0 8]\n",
            " [0 9]]\n",
            "\n",
            "RF Classification Report:\n",
            "              precision    recall  f1-score   support\n",
            "\n",
            "      Normal       0.00      0.00      0.00         8\n",
            "      Schizo       0.53      1.00      0.69         9\n",
            "\n",
            "    accuracy                           0.53        17\n",
            "   macro avg       0.26      0.50      0.35        17\n",
            "weighted avg       0.28      0.53      0.37        17\n",
            "\n",
            "RF Confusion Matrix:\n",
            " [[0 8]\n",
            " [0 9]]\n"
          ]
        },
        {
          "output_type": "stream",
          "name": "stderr",
          "text": [
            "/usr/local/lib/python3.11/dist-packages/sklearn/metrics/_classification.py:1565: UndefinedMetricWarning: Precision is ill-defined and being set to 0.0 in labels with no predicted samples. Use `zero_division` parameter to control this behavior.\n",
            "  _warn_prf(average, modifier, f\"{metric.capitalize()} is\", len(result))\n",
            "/usr/local/lib/python3.11/dist-packages/sklearn/metrics/_classification.py:1565: UndefinedMetricWarning: Precision is ill-defined and being set to 0.0 in labels with no predicted samples. Use `zero_division` parameter to control this behavior.\n",
            "  _warn_prf(average, modifier, f\"{metric.capitalize()} is\", len(result))\n",
            "/usr/local/lib/python3.11/dist-packages/sklearn/metrics/_classification.py:1565: UndefinedMetricWarning: Precision is ill-defined and being set to 0.0 in labels with no predicted samples. Use `zero_division` parameter to control this behavior.\n",
            "  _warn_prf(average, modifier, f\"{metric.capitalize()} is\", len(result))\n",
            "/usr/local/lib/python3.11/dist-packages/sklearn/metrics/_classification.py:1565: UndefinedMetricWarning: Precision is ill-defined and being set to 0.0 in labels with no predicted samples. Use `zero_division` parameter to control this behavior.\n",
            "  _warn_prf(average, modifier, f\"{metric.capitalize()} is\", len(result))\n",
            "/usr/local/lib/python3.11/dist-packages/sklearn/metrics/_classification.py:1565: UndefinedMetricWarning: Precision is ill-defined and being set to 0.0 in labels with no predicted samples. Use `zero_division` parameter to control this behavior.\n",
            "  _warn_prf(average, modifier, f\"{metric.capitalize()} is\", len(result))\n",
            "/usr/local/lib/python3.11/dist-packages/sklearn/metrics/_classification.py:1565: UndefinedMetricWarning: Precision is ill-defined and being set to 0.0 in labels with no predicted samples. Use `zero_division` parameter to control this behavior.\n",
            "  _warn_prf(average, modifier, f\"{metric.capitalize()} is\", len(result))\n"
          ]
        },
        {
          "output_type": "display_data",
          "data": {
            "text/plain": [
              "<Figure size 640x480 with 1 Axes>"
            ],
            "image/png": "[encoded data removed]"
          },
          "metadata": {}
        },
        {
          "output_type": "display_data",
          "data": {
            "text/plain": [
              "<Figure size 640x480 with 1 Axes>"
            ],
            "image/png": "[encoded data removed]"
          },
          "metadata": {}
        }
      ]
    },
    {
      "cell_type": "code",
      "source": [
        "from sklearn.model_selection import train_test_split\n",
        "from sklearn.preprocessing import StandardScaler\n",
        "from sklearn.decomposition import PCA\n",
        "\n",
        "X = np.array([x.flatten() for x in X_raw])\n",
        "X_train, X_test, y_train, y_test = train_test_split(\n",
        "    X, y, test_size=0.2, stratify=y, random_state=42\n",
        ")\n",
        "scaler = StandardScaler().fit(X_train)\n",
        "X_train_s = scaler.transform(X_train); X_test_s = scaler.transform(X_test)\n",
        "pca = PCA(n_components=0.99, svd_solver='full').fit(X_train_s)\n",
        "X_train_pca = pca.transform(X_train_s); X_test_pca = pca.transform(X_test_s)\n"
      ],
      "metadata": {
        "id": "hewgUS1GXt2v"
      },
      "execution_count": null,
      "outputs": []
    },
    {
      "cell_type": "code",
      "source": [
        "from sklearn.svm import SVC\n",
        "from sklearn.ensemble import RandomForestClassifier\n",
        "\n",
        "svm = SVC(kernel='rbf', probability=True).fit(X_train_pca, y_train)\n",
        "rf  = RandomForestClassifier(n_estimators=100, random_state=42).fit(X_train_pca, y_train)\n",
        "\n",
        "# 6. Frequency-domain features\n",
        "from scipy.signal import welch\n",
        "def compute_bandpowers(sig, sf=128):\n",
        "    bands = {\"delta\":(1,4),\"theta\":(4,8),\"alpha\":(8,12),\"beta\":(12,30)}\n",
        "    freqs, psd = welch(sig, fs=sf, nperseg=sf*2)\n",
        "    feats = []\n",
        "    for ch in range(sig.shape[0]):\n",
        "        for (fmin,fmax) in bands.values():\n",
        "            idx = (freqs>=fmin)&(freqs<=fmax)\n",
        "            feats.append(np.trapz(psd[ch][idx], freqs[idx]))\n",
        "    return feats\n",
        "\n",
        "features = np.array([compute_bandpowers(x.reshape(16,-1)) for x in X_raw])\n",
        "X_train_f, X_test_f, y_train_f, y_test_f = train_test_split(\n",
        "    features, y, test_size=0.2, stratify=y, random_state=42\n",
        ")"
      ],
      "metadata": {
        "colab": {
          "base_uri": "https://localhost:8080/"
        },
        "id": "L82yJsNyX0I7",
        "outputId": "434e2ad9-3ec3-4871-ffb6-f0ece8e5aafa"
      },
      "execution_count": null,
      "outputs": [
        {
          "output_type": "stream",
          "name": "stderr",
          "text": [
            "/tmp/ipython-input-10-2519891327.py:16: DeprecationWarning: `trapz` is deprecated. Use `trapezoid` instead, or one of the numerical integration functions in `scipy.integrate`.\n",
            "  feats.append(np.trapz(psd[ch][idx], freqs[idx]))\n"
          ]
        }
      ]
    },
    {
      "cell_type": "code",
      "source": [
        "rf_band = RandomForestClassifier(n_estimators=100, random_state=42).fit(X_train_f, y_train_f)\n",
        "from sklearn.metrics import classification_report, confusion_matrix\n",
        "print(classification_report(y_test_f, rf_band.predict(X_test_f), target_names=[\"Normal\",\"Schizophrenia\"]))\n",
        "print(confusion_matrix(y_test_f, rf_band.predict(X_test_f)))\n",
        "\n",
        "# 8. t-SNE embedding & plot\n",
        "from sklearn.manifold import TSNE\n",
        "import matplotlib.pyplot as plt\n",
        "\n",
        "X_emb = TSNE(n_components=2, random_state=42, init='pca').fit_transform(features)\n",
        "plt.figure()\n",
        "for lbl,c in zip([0,1],[\"blue\",\"red\"]):\n",
        "    idx = (y==lbl)\n",
        "    plt.scatter(X_emb[idx,0], X_emb[idx,1], label=str(lbl), alpha=0.7)\n",
        "plt.legend(); plt.show()"
      ],
      "metadata": {
        "colab": {
          "base_uri": "https://localhost:8080/",
          "height": 621
        },
        "id": "XCD4-U4sX2zb",
        "outputId": "99118015-c0c2-4190-8a8f-8b6e01232e4a"
      },
      "execution_count": null,
      "outputs": [
        {
          "output_type": "stream",
          "name": "stdout",
          "text": [
            "               precision    recall  f1-score   support\n",
            "\n",
            "       Normal       0.43      0.38      0.40         8\n",
            "Schizophrenia       0.50      0.56      0.53         9\n",
            "\n",
            "     accuracy                           0.47        17\n",
            "    macro avg       0.46      0.47      0.46        17\n",
            " weighted avg       0.47      0.47      0.47        17\n",
            "\n",
            "[[3 5]\n",
            " [4 5]]\n"
          ]
        },
        {
          "output_type": "display_data",
          "data": {
            "text/plain": [
              "<Figure size 640x480 with 1 Axes>"
            ],
            "image/png": "[encoded data removed]"
          },
          "metadata": {}
        }
      ]
    },
    {
      "cell_type": "code",
      "source": [
        "from sklearn.svm import SVC\n",
        "from sklearn.ensemble import RandomForestClassifier\n",
        "from sklearn.model_selection import StratifiedKFold, train_test_split, cross_val_score\n",
        "import numpy as np"
      ],
      "metadata": {
        "id": "MLvKwGyQYHN2"
      },
      "execution_count": null,
      "outputs": []
    },
    {
      "cell_type": "code",
      "source": [
        "# 1. Install Optuna\n",
        "!pip install optuna --quiet\n",
        "\n",
        "# 2. Imports\n",
        "import optuna\n",
        "from sklearn.ensemble import RandomForestClassifier\n",
        "from sklearn.model_selection import cross_val_score, StratifiedKFold\n",
        "import numpy as np\n",
        "\n",
        "# 3. Setup cross-validation\n",
        "cv = StratifiedKFold(n_splits=5, shuffle=True, random_state=42)\n",
        "\n",
        "# 4. Objective function\n",
        "def rf_objective(trial):\n",
        "    n_estimators = trial.suggest_int('n_estimators', 50, 200)\n",
        "    max_depth = trial.suggest_int('max_depth', 5, 20)\n",
        "    rf = RandomForestClassifier(n_estimators=n_estimators, max_depth=max_depth, random_state=42)\n",
        "    return np.mean(cross_val_score(rf, X_train_pca, y_train, cv=cv, scoring='accuracy'))\n",
        "\n",
        "# 5. Run optimization\n",
        "study = optuna.create_study(direction='maximize')\n",
        "study.optimize(rf_objective, n_trials=20)\n",
        "\n",
        "# 6. Print best parameters\n",
        "print(study.best_params_)"
      ],
      "metadata": {
        "colab": {
          "base_uri": "https://localhost:8080/",
          "height": 540
        },
        "id": "joCc3R-1YC50",
        "outputId": "5daf0dee-1de0-4bf5-bff9-bba5cac0b019"
      },
      "execution_count": null,
      "outputs": [
        {
          "output_type": "stream",
          "name": "stderr",
          "text": [
            "[I 2025-07-13 10:19:30,918] A new study created in memory with name: no-name-5133e6ba-e0a7-4ee1-a024-26d6671ac6f1\n",
            "[I 2025-07-13 10:19:31,418] Trial 0 finished with value: 0.5681318681318681 and parameters: {'n_estimators': 90, 'max_depth': 6}. Best is trial 0 with value: 0.5681318681318681.\n",
            "[I 2025-07-13 10:19:32,236] Trial 1 finished with value: 0.5824175824175825 and parameters: {'n_estimators': 153, 'max_depth': 16}. Best is trial 1 with value: 0.5824175824175825.\n",
            "[I 2025-07-13 10:19:32,657] Trial 2 finished with value: 0.5681318681318681 and parameters: {'n_estimators': 71, 'max_depth': 9}. Best is trial 1 with value: 0.5824175824175825.\n",
            "[I 2025-07-13 10:19:33,512] Trial 3 finished with value: 0.5681318681318681 and parameters: {'n_estimators': 161, 'max_depth': 10}. Best is trial 1 with value: 0.5824175824175825.\n",
            "[I 2025-07-13 10:19:33,819] Trial 4 finished with value: 0.5703296703296703 and parameters: {'n_estimators': 58, 'max_depth': 11}. Best is trial 1 with value: 0.5824175824175825.\n",
            "[I 2025-07-13 10:19:34,516] Trial 5 finished with value: 0.5538461538461539 and parameters: {'n_estimators': 129, 'max_depth': 8}. Best is trial 1 with value: 0.5824175824175825.\n",
            "[I 2025-07-13 10:19:35,203] Trial 6 finished with value: 0.5538461538461539 and parameters: {'n_estimators': 133, 'max_depth': 17}. Best is trial 1 with value: 0.5824175824175825.\n",
            "[I 2025-07-13 10:19:35,840] Trial 7 finished with value: 0.5538461538461539 and parameters: {'n_estimators': 120, 'max_depth': 15}. Best is trial 1 with value: 0.5824175824175825.\n",
            "[I 2025-07-13 10:19:36,205] Trial 8 finished with value: 0.554945054945055 and parameters: {'n_estimators': 66, 'max_depth': 13}. Best is trial 1 with value: 0.5824175824175825.\n",
            "[I 2025-07-13 10:19:36,596] Trial 9 finished with value: 0.5395604395604396 and parameters: {'n_estimators': 68, 'max_depth': 6}. Best is trial 1 with value: 0.5824175824175825.\n",
            "[I 2025-07-13 10:19:37,647] Trial 10 finished with value: 0.5681318681318681 and parameters: {'n_estimators': 196, 'max_depth': 19}. Best is trial 1 with value: 0.5824175824175825.\n",
            "[I 2025-07-13 10:19:38,521] Trial 11 finished with value: 0.5538461538461539 and parameters: {'n_estimators': 166, 'max_depth': 13}. Best is trial 1 with value: 0.5824175824175825.\n",
            "[I 2025-07-13 10:19:39,046] Trial 12 finished with value: 0.5527472527472528 and parameters: {'n_estimators': 100, 'max_depth': 20}. Best is trial 1 with value: 0.5824175824175825.\n",
            "[I 2025-07-13 10:19:40,083] Trial 13 finished with value: 0.5681318681318681 and parameters: {'n_estimators': 160, 'max_depth': 16}. Best is trial 1 with value: 0.5824175824175825.\n",
            "[I 2025-07-13 10:19:41,458] Trial 14 finished with value: 0.5681318681318681 and parameters: {'n_estimators': 197, 'max_depth': 11}. Best is trial 1 with value: 0.5824175824175825.\n",
            "[I 2025-07-13 10:19:42,232] Trial 15 finished with value: 0.5681318681318681 and parameters: {'n_estimators': 144, 'max_depth': 14}. Best is trial 1 with value: 0.5824175824175825.\n",
            "[I 2025-07-13 10:19:42,799] Trial 16 finished with value: 0.5527472527472528 and parameters: {'n_estimators': 106, 'max_depth': 18}. Best is trial 1 with value: 0.5824175824175825.\n",
            "[I 2025-07-13 10:19:43,744] Trial 17 finished with value: 0.5681318681318681 and parameters: {'n_estimators': 180, 'max_depth': 11}. Best is trial 1 with value: 0.5824175824175825.\n",
            "[I 2025-07-13 10:19:44,060] Trial 18 finished with value: 0.554945054945055 and parameters: {'n_estimators': 54, 'max_depth': 15}. Best is trial 1 with value: 0.5824175824175825.\n",
            "[I 2025-07-13 10:19:44,518] Trial 19 finished with value: 0.5395604395604396 and parameters: {'n_estimators': 85, 'max_depth': 12}. Best is trial 1 with value: 0.5824175824175825.\n"
          ]
        },
        {
          "output_type": "error",
          "ename": "AttributeError",
          "evalue": "'Study' object has no attribute 'best_params_'",
          "traceback": [
            "\u001b[0;31m---------------------------------------------------------------------------\u001b[0m",
            "\u001b[0;31mAttributeError\u001b[0m                            Traceback (most recent call last)",
            "\u001b[0;32m/tmp/ipython-input-18-2232910348.py\u001b[0m in \u001b[0;36m<cell line: 0>\u001b[0;34m()\u001b[0m\n\u001b[1;32m     23\u001b[0m \u001b[0;34m\u001b[0m\u001b[0m\n\u001b[1;32m     24\u001b[0m \u001b[0;31m# 6. Print best parameters\u001b[0m\u001b[0;34m\u001b[0m\u001b[0;34m\u001b[0m\u001b[0m\n\u001b[0;32m---> 25\u001b[0;31m \u001b[0mprint\u001b[0m\u001b[0;34m(\u001b[0m\u001b[0mstudy\u001b[0m\u001b[0;34m.\u001b[0m\u001b[0mbest_params_\u001b[0m\u001b[0;34m)\u001b[0m\u001b[0;34m\u001b[0m\u001b[0;34m\u001b[0m\u001b[0m\n\u001b[0m",
            "\u001b[0;31mAttributeError\u001b[0m: 'Study' object has no attribute 'best_params_'"
          ]
        }
      ]
    },
    {
      "cell_type": "code",
      "source": [
        "import tensorflow as tf\n",
        "from tensorflow.keras import layers, models\n",
        "\n",
        "# reshape PCA data into (samples, timesteps, channels) or use raw X\n",
        "X_cnn = X_train.reshape(-1, 16, X_train.shape[1]//16)[..., np.newaxis]\n",
        "y_cnn = y_train\n",
        "\n",
        "model = models.Sequential([\n",
        "    layers.Conv2D(32, (1,3), activation='relu', input_shape=X_cnn.shape[1:]),\n",
        "    layers.MaxPool2D((1,2)),\n",
        "    layers.Conv2D(64, (1,3), activation='relu'),\n",
        "    layers.Flatten(),\n",
        "    layers.Dense(64, activation='relu'),\n",
        "    layers.Dropout(0.5),\n",
        "    layers.Dense(1, activation='sigmoid')\n",
        "])\n",
        "model.compile(optimizer='adam', loss='binary_crossentropy', metrics=['accuracy'])\n",
        "model.fit(X_cnn, y_cnn, epochs=20, batch_size=8, validation_split=0.2)\n"
      ],
      "metadata": {
        "colab": {
          "base_uri": "https://localhost:8080/"
        },
        "id": "YUw6D3H7ZE9H",
        "outputId": "31c30da9-48a9-4097-a3e9-46be28704e7c"
      },
      "execution_count": null,
      "outputs": [
        {
          "output_type": "stream",
          "name": "stderr",
          "text": [
            "/usr/local/lib/python3.11/dist-packages/keras/src/layers/convolutional/base_conv.py:107: UserWarning: Do not pass an `input_shape`/`input_dim` argument to a layer. When using Sequential models, prefer using an `Input(shape)` object as the first layer in the model instead.\n",
            "  super().__init__(activity_regularizer=activity_regularizer, **kwargs)\n"
          ]
        },
        {
          "output_type": "stream",
          "name": "stdout",
          "text": [
            "Epoch 1/20\n",
            "\u001b[1m7/7\u001b[0m \u001b[32m━━━━━━━━━━━━━━━━━━━━\u001b[0m\u001b[37m\u001b[0m \u001b[1m49s\u001b[0m 6s/step - accuracy: 0.5705 - loss: 34756.8555 - val_accuracy: 0.5714 - val_loss: 64948.9336\n",
            "Epoch 2/20\n",
            "\u001b[1m4/7\u001b[0m \u001b[32m━━━━━━━━━━━\u001b[0m\u001b[37m━━━━━━━━━\u001b[0m \u001b[1m17s\u001b[0m 6s/step - accuracy: 0.5000 - loss: 62250.7227"
          ]
        }
      ]
    },
    {
      "cell_type": "code",
      "source": [
        "from sklearn.metrics import precision_recall_curve, average_precision_score\n",
        "\n",
        "y_proba = rf.predict_proba(X_test_pca)[:,1]\n",
        "prec, rec, _ = precision_recall_curve(y_test, y_proba)\n",
        "ap = average_precision_score(y_test, y_proba)\n",
        "plt.plot(rec, prec, label=f\"AP={ap:.2f}\")\n",
        "plt.xlabel(\"Recall\"); plt.ylabel(\"Precision\"); plt.legend(); plt.show()\n"
      ],
      "metadata": {
        "colab": {
          "base_uri": "https://localhost:8080/",
          "height": 449
        },
        "id": "LedfN971ZNhU",
        "outputId": "f3a438de-cd5b-4ef5-bf9a-80b4e7cf650b"
      },
      "execution_count": null,
      "outputs": [
        {
          "output_type": "display_data",
          "data": {
            "text/plain": [
              "<Figure size 640x480 with 1 Axes>"
            ],
            "image/png": "[encoded data removed]"
          },
          "metadata": {}
        }
      ]
    },
    {
      "cell_type": "code",
      "source": [
        "from sklearn.model_selection import cross_val_score\n",
        "\n",
        "nested_scores = cross_val_score(grid, X, y, cv=5, scoring='accuracy')\n",
        "print(\"Nested CV Accuracy:\", nested_scores.mean())\n"
      ],
      "metadata": {
        "colab": {
          "base_uri": "https://localhost:8080/",
          "height": 193
        },
        "id": "Ro9jDm9TZTcu",
        "outputId": "3099931d-7c02-4721-b521-c93332eee682"
      },
      "execution_count": null,
      "outputs": [
        {
          "output_type": "error",
          "ename": "NameError",
          "evalue": "name 'grid' is not defined",
          "traceback": [
            "\u001b[0;31m---------------------------------------------------------------------------\u001b[0m",
            "\u001b[0;31mNameError\u001b[0m                                 Traceback (most recent call last)",
            "\u001b[0;32m/tmp/ipython-input-22-1412922859.py\u001b[0m in \u001b[0;36m<cell line: 0>\u001b[0;34m()\u001b[0m\n\u001b[1;32m      1\u001b[0m \u001b[0;32mfrom\u001b[0m \u001b[0msklearn\u001b[0m\u001b[0;34m.\u001b[0m\u001b[0mmodel_selection\u001b[0m \u001b[0;32mimport\u001b[0m \u001b[0mcross_val_score\u001b[0m\u001b[0;34m\u001b[0m\u001b[0;34m\u001b[0m\u001b[0m\n\u001b[1;32m      2\u001b[0m \u001b[0;34m\u001b[0m\u001b[0m\n\u001b[0;32m----> 3\u001b[0;31m \u001b[0mnested_scores\u001b[0m \u001b[0;34m=\u001b[0m \u001b[0mcross_val_score\u001b[0m\u001b[0;34m(\u001b[0m\u001b[0mgrid\u001b[0m\u001b[0;34m,\u001b[0m \u001b[0mX\u001b[0m\u001b[0;34m,\u001b[0m \u001b[0my\u001b[0m\u001b[0;34m,\u001b[0m \u001b[0mcv\u001b[0m\u001b[0;34m=\u001b[0m\u001b[0;36m5\u001b[0m\u001b[0;34m,\u001b[0m \u001b[0mscoring\u001b[0m\u001b[0;34m=\u001b[0m\u001b[0;34m'accuracy'\u001b[0m\u001b[0;34m)\u001b[0m\u001b[0;34m\u001b[0m\u001b[0;34m\u001b[0m\u001b[0m\n\u001b[0m\u001b[1;32m      4\u001b[0m \u001b[0mprint\u001b[0m\u001b[0;34m(\u001b[0m\u001b[0;34m\"Nested CV Accuracy:\"\u001b[0m\u001b[0;34m,\u001b[0m \u001b[0mnested_scores\u001b[0m\u001b[0;34m.\u001b[0m\u001b[0mmean\u001b[0m\u001b[0;34m(\u001b[0m\u001b[0;34m)\u001b[0m\u001b[0;34m)\u001b[0m\u001b[0;34m\u001b[0m\u001b[0;34m\u001b[0m\u001b[0m\n",
            "\u001b[0;31mNameError\u001b[0m: name 'grid' is not defined"
          ]
        }
      ]
    },
    {
      "cell_type": "code",
      "source": [
        "import joblib\n",
        "joblib.dump(rf_band, \"rf_bandpower.pkl\")\n",
        "best_rf = joblib.load(\"rf_bandpower.pkl\")\n"
      ],
      "metadata": {
        "id": "GU9PdDzAZcF1"
      },
      "execution_count": null,
      "outputs": []
    },
    {
      "cell_type": "code",
      "source": [
        "# Gradio UI: accept dataset_text.zip, extract, then predict on first EEG .txt inside\n",
        "\n",
        "!pip install gradio joblib --quiet\n",
        "\n",
        "import gradio as gr\n",
        "import zipfile, io, os, tempfile, numpy as np, joblib\n",
        "\n",
        "# Load saved models & preprocessors\n",
        "scaler    = joblib.load(\"scaler.pkl\")\n",
        "pca       = joblib.load(\"pca.pkl\")\n",
        "svm_model = joblib.load(\"svm_model.pkl\")\n",
        "rf_model  = joblib.load(\"rf_model.pkl\")\n",
        "\n",
        "def predict_from_zip(zip_file, model_choice):\n",
        "    # Create temp dir\n",
        "    with tempfile.TemporaryDirectory() as tmp:\n",
        "        # Read in-memory zip\n",
        "        buff = io.BytesIO(zip_file.read())\n",
        "        with zipfile.ZipFile(buff) as z:\n",
        "            # Extract to temp\n",
        "            z.extractall(tmp)\n",
        "        # Find first .txt EEG file\n",
        "        for root, _, files in os.walk(tmp):\n",
        "            for f in files:\n",
        "                if f.endswith(\".txt\"):\n",
        "                    path = os.path.join(root, f)\n",
        "                    # Load EEG data\n",
        "                    data = np.loadtxt(path).flatten().reshape(1, -1)\n",
        "                    # Preprocess & predict\n",
        "                    x_s  = scaler.transform(data)\n",
        "                    x_p  = pca.transform(x_s)\n",
        "                    model = svm_model if model_choice==\"SVM\" else rf_model\n",
        "                    probs = model.predict_proba(x_p)[0]\n",
        "                    return {\"Normal\": float(probs[0]), \"Schizophrenia\": float(probs[1])}\n",
        "    return {\"Error\": 0.0}\n",
        "\n",
        "# Build interface\n",
        "iface = gr.Interface(\n",
        "    fn=predict_from_zip,\n",
        "    inputs=[\n",
        "        gr.File(file_types=[\"zip\"], label=\"Upload dataset_text.zip\"),\n",
        "        gr.Radio([\"SVM\",\"RF\"], label=\"Model\")\n",
        "    ],\n",
        "    outputs=gr.Label(num_top_classes=2, label=\"Prediction\"),\n",
        "    title=\"EEG Schizophrenia Detection\",\n",
        ")\n",
        "\n",
        "iface.launch(share=True)\n"
      ],
      "metadata": {
        "colab": {
          "base_uri": "https://localhost:8080/",
          "height": 332
        },
        "id": "YYKNK1wlaVEe",
        "outputId": "7cb90cff-3713-46d0-9b0b-fc42a7b5fb93"
      },
      "execution_count": null,
      "outputs": [
        {
          "output_type": "error",
          "ename": "FileNotFoundError",
          "evalue": "[Errno 2] No such file or directory: 'scaler.pkl'",
          "traceback": [
            "\u001b[0;31m---------------------------------------------------------------------------\u001b[0m",
            "\u001b[0;31mFileNotFoundError\u001b[0m                         Traceback (most recent call last)",
            "\u001b[0;32m/tmp/ipython-input-25-1635413926.py\u001b[0m in \u001b[0;36m<cell line: 0>\u001b[0;34m()\u001b[0m\n\u001b[1;32m      7\u001b[0m \u001b[0;34m\u001b[0m\u001b[0m\n\u001b[1;32m      8\u001b[0m \u001b[0;31m# Load saved models & preprocessors\u001b[0m\u001b[0;34m\u001b[0m\u001b[0;34m\u001b[0m\u001b[0m\n\u001b[0;32m----> 9\u001b[0;31m \u001b[0mscaler\u001b[0m    \u001b[0;34m=\u001b[0m \u001b[0mjoblib\u001b[0m\u001b[0;34m.\u001b[0m\u001b[0mload\u001b[0m\u001b[0;34m(\u001b[0m\u001b[0;34m\"scaler.pkl\"\u001b[0m\u001b[0;34m)\u001b[0m\u001b[0;34m\u001b[0m\u001b[0;34m\u001b[0m\u001b[0m\n\u001b[0m\u001b[1;32m     10\u001b[0m \u001b[0mpca\u001b[0m       \u001b[0;34m=\u001b[0m \u001b[0mjoblib\u001b[0m\u001b[0;34m.\u001b[0m\u001b[0mload\u001b[0m\u001b[0;34m(\u001b[0m\u001b[0;34m\"pca.pkl\"\u001b[0m\u001b[0;34m)\u001b[0m\u001b[0;34m\u001b[0m\u001b[0;34m\u001b[0m\u001b[0m\n\u001b[1;32m     11\u001b[0m \u001b[0msvm_model\u001b[0m \u001b[0;34m=\u001b[0m \u001b[0mjoblib\u001b[0m\u001b[0;34m.\u001b[0m\u001b[0mload\u001b[0m\u001b[0;34m(\u001b[0m\u001b[0;34m\"svm_model.pkl\"\u001b[0m\u001b[0;34m)\u001b[0m\u001b[0;34m\u001b[0m\u001b[0;34m\u001b[0m\u001b[0m\n",
            "\u001b[0;32m/usr/local/lib/python3.11/dist-packages/joblib/numpy_pickle.py\u001b[0m in \u001b[0;36mload\u001b[0;34m(filename, mmap_mode, ensure_native_byte_order)\u001b[0m\n\u001b[1;32m    733\u001b[0m             \u001b[0mobj\u001b[0m \u001b[0;34m=\u001b[0m \u001b[0m_unpickle\u001b[0m\u001b[0;34m(\u001b[0m\u001b[0mfobj\u001b[0m\u001b[0;34m,\u001b[0m \u001b[0mensure_native_byte_order\u001b[0m\u001b[0;34m=\u001b[0m\u001b[0mensure_native_byte_order\u001b[0m\u001b[0;34m)\u001b[0m\u001b[0;34m\u001b[0m\u001b[0;34m\u001b[0m\u001b[0m\n\u001b[1;32m    734\u001b[0m     \u001b[0;32melse\u001b[0m\u001b[0;34m:\u001b[0m\u001b[0;34m\u001b[0m\u001b[0;34m\u001b[0m\u001b[0m\n\u001b[0;32m--> 735\u001b[0;31m         \u001b[0;32mwith\u001b[0m \u001b[0mopen\u001b[0m\u001b[0;34m(\u001b[0m\u001b[0mfilename\u001b[0m\u001b[0;34m,\u001b[0m \u001b[0;34m\"rb\"\u001b[0m\u001b[0;34m)\u001b[0m \u001b[0;32mas\u001b[0m \u001b[0mf\u001b[0m\u001b[0;34m:\u001b[0m\u001b[0;34m\u001b[0m\u001b[0;34m\u001b[0m\u001b[0m\n\u001b[0m\u001b[1;32m    736\u001b[0m             with _validate_fileobject_and_memmap(f, filename, mmap_mode) as (\n\u001b[1;32m    737\u001b[0m                 \u001b[0mfobj\u001b[0m\u001b[0;34m,\u001b[0m\u001b[0;34m\u001b[0m\u001b[0;34m\u001b[0m\u001b[0m\n",
            "\u001b[0;31mFileNotFoundError\u001b[0m: [Errno 2] No such file or directory: 'scaler.pkl'"
          ]
        }
      ]
    },
    {
      "cell_type": "code",
      "source": [],
      "metadata": {
        "id": "yYa01gHJsntM"
      },
      "execution_count": null,
      "outputs": []
    },
    {
      "cell_type": "markdown",
      "source": [],
      "metadata": {
        "id": "BWNr-A6-aUfs"
      }
    }
  ]
}